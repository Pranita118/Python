{
  "metadata": {
    "kernelspec": {
      "name": "python",
      "display_name": "Python (Pyodide)",
      "language": "python"
    },
    "language_info": {
      "codemirror_mode": {
        "name": "python",
        "version": 3
      },
      "file_extension": ".py",
      "mimetype": "text/x-python",
      "name": "python",
      "nbconvert_exporter": "python",
      "pygments_lexer": "ipython3",
      "version": "3.8"
    }
  },
  "nbformat_minor": 5,
  "nbformat": 4,
  "cells": [
    {
      "id": "08e8ff82-f6e7-4ce4-8263-4887a4bf88cb",
      "cell_type": "markdown",
      "source": "### Experiment 4",
      "metadata": {}
    },
    {
      "id": "d07d5948-870c-4b5e-98e1-c35c39f1d2bb",
      "cell_type": "code",
      "source": "import os\n\nfiles = [f for f in os.listdir('.') if os.path.isfile(f)]\n\nprint(\"Files in the current directory:\")\nfor file in files:\n    print(file)\n",
      "metadata": {
        "trusted": true
      },
      "outputs": [
        {
          "name": "stdout",
          "output_type": "stream",
          "text": "Files in the current directory:\nUntitled.ipynb\nLorenz.ipynb\nIntro.ipynb\nsqlite.ipynb\n"
        }
      ],
      "execution_count": 1
    },
    {
      "id": "258dd5ff-91c0-41e1-9241-ed52eff80bc4",
      "cell_type": "markdown",
      "source": "### Utilize the pathlib module",
      "metadata": {}
    },
    {
      "id": "f54b4f53-e69d-4d03-8bed-c20b3d73ed89",
      "cell_type": "code",
      "source": "from pathlib import Path\n\ncurrent_directory = Path('.')\n\nfiles = [f for f in current_directory.iterdir() if f.is_file()]\n\nprint(\"Files in the current directory:\")\nfor file in files:\n    print(file.name)\n",
      "metadata": {
        "trusted": true
      },
      "outputs": [
        {
          "name": "stdout",
          "output_type": "stream",
          "text": "Files in the current directory:\nUntitled.ipynb\nLorenz.ipynb\nIntro.ipynb\nsqlite.ipynb\n"
        }
      ],
      "execution_count": 4
    },
    {
      "id": "fca042d4-aa8d-4472-aa2d-79a6c11198e0",
      "cell_type": "code",
      "source": "",
      "metadata": {
        "trusted": true
      },
      "outputs": [],
      "execution_count": null
    }
  ]
}