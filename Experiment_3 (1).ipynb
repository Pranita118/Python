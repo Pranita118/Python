{
  "metadata": {
    "kernelspec": {
      "name": "python",
      "display_name": "Python (Pyodide)",
      "language": "python"
    },
    "language_info": {
      "codemirror_mode": {
        "name": "python",
        "version": 3
      },
      "file_extension": ".py",
      "mimetype": "text/x-python",
      "name": "python",
      "nbconvert_exporter": "python",
      "pygments_lexer": "ipython3",
      "version": "3.8"
    }
  },
  "nbformat_minor": 5,
  "nbformat": 4,
  "cells": [
    {
      "id": "03c909bb-c291-4dc2-bdad-cf79cbed51bf",
      "cell_type": "markdown",
      "source": "### Experiment 3",
      "metadata": {}
    },
    {
      "id": "cb02c74c-b2a6-4dfb-be9a-74b6ced27348",
      "cell_type": "code",
      "source": "if __name__ == '__main__':\n    with open ('Experiment no 3.txt', 'r') as file:\n        lines = file.readlines ()\n        numberOfLines = len (lines)\n        numberOfWords = sum (len (line.split()) for line in lines)\n        \n        # Write numberOfCharacters over here.\n        numberOfCharacters = ''\n        \n    print(f\"Lines: {numberOfLines}\")\n    print(f\"Words: {numberOfWords}\")\n    print(f\"Characters: {numberOfCharacters}\")",
      "metadata": {
        "trusted": true
      },
      "outputs": [
        {
          "name": "stdout",
          "output_type": "stream",
          "text": "Lines: 1\nWords: 6\nCharacters: \n"
        }
      ],
      "execution_count": 1
    },
    {
      "id": "a9860221-81ec-4f77-88ea-9de0a915d2ad",
      "cell_type": "code",
      "source": "",
      "metadata": {
        "trusted": true
      },
      "outputs": [],
      "execution_count": null
    }
  ]
}