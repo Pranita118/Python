{
 "cells": [
  {
   "cell_type": "markdown",
   "id": "270e8425-2049-4d27-adc4-021f8b30cd61",
   "metadata": {},
   "source": [
    "### Assignment 1"
   ]
  },
  {
   "cell_type": "code",
   "execution_count": 3,
   "id": "bf8d1ce1-c5bd-4832-932a-93c81daa07c4",
   "metadata": {},
   "outputs": [
    {
     "name": "stdout",
     "output_type": "stream",
     "text": [
      "\n",
      "1. Add Product\n",
      "2. Update Stock\n",
      "3. View Product Details\n",
      "4. View All Products\n",
      "5. Exit\n"
     ]
    },
    {
     "name": "stdin",
     "output_type": "stream",
     "text": [
      "Enter choice:  1\n",
      "Enter product name:  laptop\n",
      "Enter product price: $ 999.99\n",
      "Enter stock quantity:  10\n"
     ]
    },
    {
     "name": "stdout",
     "output_type": "stream",
     "text": [
      "Product 'laptop' added successfully.\n",
      "\n",
      "1. Add Product\n",
      "2. Update Stock\n",
      "3. View Product Details\n",
      "4. View All Products\n",
      "5. Exit\n"
     ]
    },
    {
     "name": "stdin",
     "output_type": "stream",
     "text": [
      "Enter choice:  2\n",
      "Enter product name:  laptop\n",
      "Enter quantity to update (can be negative):  -2\n"
     ]
    },
    {
     "name": "stdout",
     "output_type": "stream",
     "text": [
      "Stock for 'laptop' updated by -2.\n",
      "\n",
      "1. Add Product\n",
      "2. Update Stock\n",
      "3. View Product Details\n",
      "4. View All Products\n",
      "5. Exit\n"
     ]
    },
    {
     "name": "stdin",
     "output_type": "stream",
     "text": [
      "Enter choice:  3\n",
      "Enter product name:  laptop\n"
     ]
    },
    {
     "name": "stdout",
     "output_type": "stream",
     "text": [
      "Product: laptop, Price: $999.99, Stock: 8\n",
      "\n",
      "1. Add Product\n",
      "2. Update Stock\n",
      "3. View Product Details\n",
      "4. View All Products\n",
      "5. Exit\n"
     ]
    },
    {
     "name": "stdin",
     "output_type": "stream",
     "text": [
      "Enter choice:  4\n"
     ]
    },
    {
     "name": "stdout",
     "output_type": "stream",
     "text": [
      "Product: laptop, Price: $999.99, Stock: 8\n",
      "\n",
      "1. Add Product\n",
      "2. Update Stock\n",
      "3. View Product Details\n",
      "4. View All Products\n",
      "5. Exit\n"
     ]
    },
    {
     "name": "stdin",
     "output_type": "stream",
     "text": [
      "Enter choice:  5\n"
     ]
    },
    {
     "name": "stdout",
     "output_type": "stream",
     "text": [
      "Exiting program. Goodbye !!!\n"
     ]
    }
   ],
   "source": [
    "class Product:\n",
    "    def __init__(self, name, price, stock_quantity):\n",
    "        self.name = name\n",
    "        self.price = price\n",
    "        self.stock_quantity = stock_quantity\n",
    "\n",
    "    def update_stock(self, quantity):\n",
    "        self.stock_quantity += quantity\n",
    "\n",
    "    def __str__(self):\n",
    "        return f\"Product: {self.name}, Price: ${self.price}, \n",
    "        Stock: {self.stock_quantity}\"\n",
    "\n",
    "class Store:\n",
    "    def __init__(self):\n",
    "        self.products = {}\n",
    "\n",
    "    def add_product(self, name, price, stock_quantity):\n",
    "        if name in self.products:\n",
    "            print(f\"Product '{name}' already exists.\")\n",
    "        else:\n",
    "            self.products[name] = Product(name, price, stock_quantity)\n",
    "            print(f\"Product '{name}' added successfully.\")\n",
    "\n",
    "    def update_product_stock(self, name, quantity):\n",
    "        if name in self.products:\n",
    "            self.products[name].update_stock(quantity)\n",
    "            print(f\"Stock for '{name}' updated by {quantity}.\")\n",
    "        else:\n",
    "            print(f\"Product '{name}' not found.\")\n",
    "\n",
    "    def view_product_details(self, name):\n",
    "        if name in self.products:\n",
    "            print(self.products[name])\n",
    "        else:\n",
    "            print(f\"Product '{name}' not found.\")\n",
    "\n",
    "    def view_all_products(self):\n",
    "        if not self.products:\n",
    "            print(\"No products available.\")\n",
    "        else:\n",
    "            for product in self.products.values():\n",
    "                print(product)\n",
    "\n",
    "def main():\n",
    "    store = Store()\n",
    "\n",
    "    while True:\n",
    "        print(\"\\n1. Add Product\")\n",
    "        print(\"2. Update Stock\")\n",
    "        print(\"3. View Product Details\")\n",
    "        print(\"4. View All Products\")\n",
    "        print(\"5. Exit\")\n",
    "        \n",
    "        choice = input(\"Enter choice: \")\n",
    "\n",
    "        if choice == '1':\n",
    "            name = input(\"Enter product name: \")\n",
    "            price = float(input(\"Enter product price: $\"))\n",
    "            stock_quantity = int(input(\"Enter stock quantity: \"))\n",
    "            store.add_product(name, price, stock_quantity)\n",
    "        elif choice == '2':\n",
    "            name = input(\"Enter product name: \")\n",
    "            quantity = int(input(\"Enter quantity to update (can be negative): \"))\n",
    "            store.update_product_stock(name, quantity)\n",
    "        elif choice == '3':\n",
    "            name = input(\"Enter product name: \")\n",
    "            store.view_product_details(name)\n",
    "        elif choice == '4':\n",
    "            store.view_all_products()\n",
    "        elif choice == '5':\n",
    "            print(\"Exiting program. Goodbye !!!\")\n",
    "            break\n",
    "        else:\n",
    "            print(\"Invalid choice. Please try again.\")\n",
    "\n",
    "if __name__ == \"__main__\":\n",
    "    main()\n"
   ]
  },
  {
   "cell_type": "code",
   "execution_count": null,
   "id": "7876dc88-ad06-443a-98bf-2ba619fb99f4",
   "metadata": {},
   "outputs": [],
   "source": []
  }
 ],
 "metadata": {
  "kernelspec": {
   "display_name": "Python 3 (ipykernel)",
   "language": "python",
   "name": "python3"
  },
  "language_info": {
   "codemirror_mode": {
    "name": "ipython",
    "version": 3
   },
   "file_extension": ".py",
   "mimetype": "text/x-python",
   "name": "python",
   "nbconvert_exporter": "python",
   "pygments_lexer": "ipython3",
   "version": "3.12.7"
  }
 },
 "nbformat": 4,
 "nbformat_minor": 5
}
