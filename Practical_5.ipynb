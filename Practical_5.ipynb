{
 "cells": [
  {
   "cell_type": "markdown",
   "id": "d5227e86-960f-48c3-a60a-1382da56fd1e",
   "metadata": {},
   "source": [
    "### Practical 5 Pranita Kumbhar(67)"
   ]
  },
  {
   "cell_type": "code",
   "execution_count": 10,
   "id": "011eb25f-1899-4cd9-8b7f-0104659e2368",
   "metadata": {},
   "outputs": [
    {
     "name": "stdout",
     "output_type": "stream",
     "text": [
      "Initial Stack\n",
      "['a', 'b', 'c']\n"
     ]
    }
   ],
   "source": [
    "stack = list ()\n",
    "\n",
    "# Append Operation\n",
    "stack.append ('a')\n",
    "stack.append ('b')\n",
    "stack.append ('c')\n",
    "print ('Initial Stack')\n",
    "print (stack)"
   ]
  },
  {
   "cell_type": "code",
   "execution_count": 12,
   "id": "25f64060-38a2-4983-8066-4a8e74798c4d",
   "metadata": {},
   "outputs": [
    {
     "name": "stdout",
     "output_type": "stream",
     "text": [
      "c\n",
      "b\n",
      "a\n",
      "[]\n"
     ]
    }
   ],
   "source": [
    "# Pop Operation\n",
    "print (stack.pop ())\n",
    "print (stack.pop ())\n",
    "print (stack.pop ())\n",
    "print (stack)"
   ]
  },
  {
   "cell_type": "code",
   "execution_count": 5,
   "id": "21bfb3cd-b039-429b-9075-3b7ff4b0c2f0",
   "metadata": {},
   "outputs": [],
   "source": [
    "class StackDepth:\n",
    "    def maximumDepth ( str : str) -> int:\n",
    "        current_depth = 0\n",
    "        max_depth = 0\n",
    "    \n",
    "        for char in str:\n",
    "            if char == '(':\n",
    "                current_depth += 1\n",
    "                max_depth = max(max_depth, current_depth)\n",
    "            elif char == ')':\n",
    "                current_depth -= 1\n",
    "    \n",
    "        return max_depth"
   ]
  },
  {
   "cell_type": "code",
   "execution_count": 7,
   "id": "63ab9632-d621-4e16-92ec-41d37c70f7fb",
   "metadata": {},
   "outputs": [
    {
     "name": "stdin",
     "output_type": "stream",
     "text": [
      "\n",
      " Enter the value:  \"(1+(2*3)+((8)/4))+1\"\n"
     ]
    },
    {
     "name": "stdout",
     "output_type": "stream",
     "text": [
      "[' ', '\"', '(', '1', '+', '(', '2', '*', '3', ')', '+', '(', '(', '8', ')', '/', '4', ')', ')', '+', '1', '\"']\n",
      "3\n"
     ]
    }
   ],
   "source": [
    "stack = list(input(\"\\n Enter the value:\"))\n",
    "print(stack)\n",
    "s1=StackDepth\n",
    "print(s1.maximumDepth(stack))"
   ]
  },
  {
   "cell_type": "code",
   "execution_count": 18,
   "id": "2b6d53bd-ecc7-45ba-bde1-8be241a33fef",
   "metadata": {},
   "outputs": [
    {
     "name": "stdin",
     "output_type": "stream",
     "text": [
      "\n",
      " Enter the value: (1)+((2))+(((3)))\n"
     ]
    },
    {
     "name": "stdout",
     "output_type": "stream",
     "text": [
      "['(', '1', ')', '+', '(', '(', '2', ')', ')', '+', '(', '(', '(', '3', ')', ')', ')']\n",
      "3\n"
     ]
    }
   ],
   "source": [
    "class StackDepth:\n",
    "    def maximumDepth ( str : str) -> int:\n",
    "        current_depth = 0\n",
    "        max_depth = 0\n",
    "    \n",
    "        for char in str:\n",
    "            if char == '(':\n",
    "                current_depth += 1\n",
    "                max_depth = max(max_depth, current_depth)\n",
    "            elif char == ')':\n",
    "                current_depth -= 1\n",
    "    \n",
    "        return max_depth\n",
    "stack = list(input(\"\\n Enter the value:\"))\n",
    "print(stack)\n",
    "s1=StackDepth\n",
    "print(s1.maximumDepth(stack))"
   ]
  },
  {
   "cell_type": "code",
   "execution_count": 20,
   "id": "7d587462-f144-4e2f-bf01-507e215ee724",
   "metadata": {},
   "outputs": [
    {
     "name": "stdin",
     "output_type": "stream",
     "text": [
      "\n",
      " Enter the value: ()(())((()()))\n"
     ]
    },
    {
     "name": "stdout",
     "output_type": "stream",
     "text": [
      "['(', ')', '(', '(', ')', ')', '(', '(', '(', ')', '(', ')', ')', ')']\n",
      "3\n"
     ]
    }
   ],
   "source": [
    "class StackDepth:\n",
    "    def maximumDepth ( str : str) -> int:\n",
    "        current_depth = 0\n",
    "        max_depth = 0\n",
    "    \n",
    "        for char in str:\n",
    "            if char == '(':\n",
    "                current_depth += 1\n",
    "                max_depth = max(max_depth, current_depth)\n",
    "            elif char == ')':\n",
    "                current_depth -= 1\n",
    "    \n",
    "        return max_depth\n",
    "stack = list(input(\"\\n Enter the value:\"))\n",
    "print(stack)\n",
    "s1=StackDepth\n",
    "print(s1.maximumDepth(stack))"
   ]
  },
  {
   "cell_type": "code",
   "execution_count": null,
   "id": "407efa1f-a85c-409e-aee6-57a6822cbae6",
   "metadata": {},
   "outputs": [],
   "source": []
  }
 ],
 "metadata": {
  "kernelspec": {
   "display_name": "Python 3 (ipykernel)",
   "language": "python",
   "name": "python3"
  },
  "language_info": {
   "codemirror_mode": {
    "name": "ipython",
    "version": 3
   },
   "file_extension": ".py",
   "mimetype": "text/x-python",
   "name": "python",
   "nbconvert_exporter": "python",
   "pygments_lexer": "ipython3",
   "version": "3.12.7"
  }
 },
 "nbformat": 4,
 "nbformat_minor": 5
}
