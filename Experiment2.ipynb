{
  "metadata": {
    "kernelspec": {
      "name": "python",
      "display_name": "Python (Pyodide)",
      "language": "python"
    },
    "language_info": {
      "codemirror_mode": {
        "name": "python",
        "version": 3
      },
      "file_extension": ".py",
      "mimetype": "text/x-python",
      "name": "python",
      "nbconvert_exporter": "python",
      "pygments_lexer": "ipython3",
      "version": "3.8"
    }
  },
  "nbformat_minor": 5,
  "nbformat": 4,
  "cells": [
    {
      "id": "94f5c2db-a846-4a73-a83f-da1de7066cb4",
      "cell_type": "markdown",
      "source": "### Experiment 2",
      "metadata": {}
    },
    {
      "id": "d88ea2cb-e392-4c2b-ae6c-b4e0c03f4f39",
      "cell_type": "code",
      "source": "'''\nGeneral case represents that developer working on \nfrontend cannot work backend development unless he/she is fullstack dev.\n\nWrite a method named verifier () that checks this condition.\n\nThe method should check that if frontend is True and backend is True,\nthe method returns Fullstack as string. If one of them is True, it should return\nthe respective desgination, and if none of them are true, it returns,\nnot a developer respetively.\n'''\n\nclass Employee:\n    def __init__ (\n            self,\n            designation : str = 'Developer',\n            frontend : bool = False,\n            backend : bool = False\n    ):\n        self.designation = designation\n        self.frontend = frontend\n        self.backend = backend\n\n    def __repr__ (self):\n        return '{}'.format (self.designation, self.frontend, self.backend)\n    \n    ### Write the your method over here.\n    def verifier (self):\n        if self.frontend and self.backend:\n            return 'Fullstack Developer'\n        elif self.frontend:\n            return 'Frontend Developer'\n        elif self.backend:\n            return 'Backend Developer'\n        else:\n            return 'Not a Developer'\n\nif __name__ == '__main__':\n    firstEmployee = Employee (frontend = True, backend = False)\n    secondEmployee = Employee (frontend = False, backend = False)\n    thirdEmployee = Employee (frontend = False, backend = True)\n    fourthEmployee = Employee ( frontend = True, backend = True)\n\n    # Call the method here to display \nprint(f'Employee 1: {firstEmployee.verifier()}')\nprint(f'Employee 2: {secondEmployee.verifier()}')  \nprint(f'Employee 3: {thirdEmployee.verifier()}')  \nprint(f'Employee 4: {fourthEmployee.verifier()}') \n   ",
      "metadata": {
        "trusted": true
      },
      "outputs": [
        {
          "name": "stdout",
          "output_type": "stream",
          "text": "Employee 1: Frontend Developer\nEmployee 2: Not a Developer\nEmployee 3: Backend Developer\nEmployee 4: Fullstack Developer\n"
        }
      ],
      "execution_count": 4
    },
    {
      "id": "d0b2b206-e908-470a-a858-fbfee2533b51",
      "cell_type": "code",
      "source": "",
      "metadata": {
        "trusted": true
      },
      "outputs": [],
      "execution_count": null
    },
    {
      "id": "3ecea782-aa1b-490f-a328-1dab94666c78",
      "cell_type": "code",
      "source": "",
      "metadata": {
        "trusted": true
      },
      "outputs": [],
      "execution_count": null
    },
    {
      "id": "2fe89267-5622-418f-b3c9-1e81b101f9c5",
      "cell_type": "code",
      "source": "",
      "metadata": {
        "trusted": true
      },
      "outputs": [],
      "execution_count": null
    }
  ]
}