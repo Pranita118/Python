{
 "cells": [
  {
   "cell_type": "markdown",
   "id": "0499844f-b183-42ea-9b8d-85975020ffdd",
   "metadata": {},
   "source": [
    "### Pranita Tejbahadur Kumbhar Rollno. 67 (Assignment 2)"
   ]
  },
  {
   "cell_type": "code",
   "execution_count": 3,
   "id": "189d5871-0b32-4b0e-a555-4b9b16190126",
   "metadata": {},
   "outputs": [
    {
     "name": "stdout",
     "output_type": "stream",
     "text": [
      "[('2025-02-10 15:45:32', 'Net_Module', 'Connection timeout from 192.168.1.10. Error Code: 0xAB12CD34'), ('2025-02-10 17:12:05', 'Security_Module', 'Unauthorized access detected from 10.0.0.5. Error Code: 0xDEADBEEF')]\n"
     ]
    }
   ],
   "source": [
    "import re\n",
    "\n",
    "def extract_critical_errors(log_data: str) -> list[tuple]:\n",
    "    # Define the regex pattern\n",
    "    pattern = (r'\\[(\\d{4}-\\d{2}-\\d{2} \\d{2}:\\d{2}:\\d{2})\\] '  # Timestamp\n",
    "               r'\\[ERROR\\] '  # Log Level\n",
    "               r'\\[([\\w_]+)\\] '  # Module Name\n",
    "               r'([^\\n]*?(?:\\d{1,3}\\.\\d{1,3}\\.\\d{1,3}\\.\\d{1,3})[^\\n]*?'  # Message with IP\n",
    "               r'0x[0-9A-Fa-f]{8}[^\\n]*)')  # Hexadecimal Error Code\n",
    "    \n",
    "    # Find all matches in log_data\n",
    "    matches = re.findall(pattern, log_data)\n",
    "    \n",
    "    return matches\n",
    "\n",
    "# Example usage\n",
    "log_data = '''\n",
    "[2025-02-10 14:23:01] [INFO] [Auth_Module] User login successful.\n",
    "[2025-02-10 15:45:32] [ERROR] [Net_Module] Connection timeout from 192.168.1.10. Error Code: 0xAB12CD34\n",
    "[2025-02-10 16:01:10] [WARN] [Disk_Module] Low disk space warning.\n",
    "[2025-02-10 17:12:05] [ERROR] [Security_Module] Unauthorized access detected from 10.0.0.5. Error Code: 0xDEADBEEF\n",
    "'''\n",
    "\n",
    "result = extract_critical_errors(log_data)\n",
    "print(result)\n"
   ]
  },
  {
   "cell_type": "code",
   "execution_count": null,
   "id": "bb7f5436-33ad-44af-af63-65baf3a5a627",
   "metadata": {},
   "outputs": [],
   "source": []
  },
  {
   "cell_type": "code",
   "execution_count": null,
   "id": "a0a3af5f-a22a-4384-8539-b4714635f8a9",
   "metadata": {},
   "outputs": [],
   "source": []
  }
 ],
 "metadata": {
  "kernelspec": {
   "display_name": "Python 3 (ipykernel)",
   "language": "python",
   "name": "python3"
  },
  "language_info": {
   "codemirror_mode": {
    "name": "ipython",
    "version": 3
   },
   "file_extension": ".py",
   "mimetype": "text/x-python",
   "name": "python",
   "nbconvert_exporter": "python",
   "pygments_lexer": "ipython3",
   "version": "3.12.7"
  }
 },
 "nbformat": 4,
 "nbformat_minor": 5
}
