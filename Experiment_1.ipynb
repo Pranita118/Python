{
  "metadata": {
    "kernelspec": {
      "name": "python",
      "display_name": "Python (Pyodide)",
      "language": "python"
    },
    "language_info": {
      "codemirror_mode": {
        "name": "python",
        "version": 3
      },
      "file_extension": ".py",
      "mimetype": "text/x-python",
      "name": "python",
      "nbconvert_exporter": "python",
      "pygments_lexer": "ipython3",
      "version": "3.8"
    }
  },
  "nbformat_minor": 5,
  "nbformat": 4,
  "cells": [
    {
      "id": "4675979b-d13b-4eea-952b-92efe5f43d16",
      "cell_type": "markdown",
      "source": "### Pranita Kumbhar, Practical No.1 ",
      "metadata": {}
    },
    {
      "id": "2dc63324-0282-42c1-807d-45fe1644d60a",
      "cell_type": "markdown",
      "source": "### String in Python",
      "metadata": {}
    },
    {
      "id": "d5dd76f5-a9a9-49fe-9079-1175cf213df4",
      "cell_type": "code",
      "source": "# Assigning string to a variable\na = 'This is a string'\nprint (a)\nb = \"This is a string\"\nprint (b)\nc= '''This is a string'''\nprint (c)",
      "metadata": {
        "trusted": true
      },
      "outputs": [
        {
          "name": "stdout",
          "output_type": "stream",
          "text": "This is a string\nThis is a string\nThis is a string\n"
        }
      ],
      "execution_count": 9
    },
    {
      "id": "bc0aa8c2-8785-4790-8e65-28d19d273b64",
      "cell_type": "markdown",
      "source": "### Lists in Python",
      "metadata": {}
    },
    {
      "id": "54d68abd-c958-4721-808c-2f7904cc2787",
      "cell_type": "code",
      "source": "# Declaring a list\nL = [1, \"a\" , \"string\" , 1+2]\nprint (L)\n#Adding an element in the list\nL.append(6) \nprint (L)\n#Deleting last element from a list\nL.pop()\nprint (L)\n#Displaying Second element of the list\nprint (L[1])",
      "metadata": {
        "trusted": true
      },
      "outputs": [
        {
          "name": "stdout",
          "output_type": "stream",
          "text": "[1, 'a', 'string', 3]\n[1, 'a', 'string', 3, 6]\n[1, 'a', 'string', 3]\na\n"
        }
      ],
      "execution_count": 10
    },
    {
      "id": "174a3ddd-7a99-4c90-aae2-faf018e14f2d",
      "cell_type": "markdown",
      "source": "### Tuples in Python",
      "metadata": {}
    },
    {
      "id": "9b1752b6-8b68-4619-8f47-9c3b45ac8472",
      "cell_type": "code",
      "source": "tup = (1, \"a\", \"string\", 1+2)\nprint(tup)\nprint(tup[1])",
      "metadata": {
        "trusted": true
      },
      "outputs": [
        {
          "name": "stdout",
          "output_type": "stream",
          "text": "(1, 'a', 'string', 3)\na\n"
        }
      ],
      "execution_count": 11
    },
    {
      "id": "970e1795-6b45-4dbb-a67a-b2aa94d837f0",
      "cell_type": "markdown",
      "source": "### Dictionaries in Python",
      "metadata": {}
    },
    {
      "id": "3156628b-8f5f-4d1d-9a52-8336facfc7b1",
      "cell_type": "code",
      "source": "d = {1: 'Lorem', 2: 'Ipsum', 3: 'Dolerum'}\nprint(d)",
      "metadata": {
        "trusted": true
      },
      "outputs": [
        {
          "name": "stdout",
          "output_type": "stream",
          "text": "{1: 'Lorem', 2: 'Ipsum', 3: 'Dolerum'}\n"
        }
      ],
      "execution_count": 12
    },
    {
      "id": "d324f4c3-da4c-4e78-88ef-475de74614fa",
      "cell_type": "markdown",
      "source": "### Create a Dictionary",
      "metadata": {}
    },
    {
      "id": "8a30fbfe-3b8b-4f32-b590-dd9b64994ab7",
      "cell_type": "code",
      "source": "# create dictionary using { }\nd1 = {1: 'Game', 2: 'of', 3: 'Thrones'}\nprint(d1)\n\n# create dictionary using dict() constructor\nd2 = dict(a = \"House\", b = \"of\", c = \"Cards\")\nprint(d2)",
      "metadata": {
        "trusted": true
      },
      "outputs": [
        {
          "name": "stdout",
          "output_type": "stream",
          "text": "{1: 'Game', 2: 'of', 3: 'Thrones'}\n{'a': 'House', 'b': 'of', 'c': 'Cards'}\n"
        }
      ],
      "execution_count": 13
    },
    {
      "id": "67b6a6d0-cf1b-4662-be26-d59f56dc75f7",
      "cell_type": "markdown",
      "source": "### Accessing Dictionary Items",
      "metadata": {}
    },
    {
      "id": "79c30846-1bf0-4b0b-b3fb-7736b8c44bd6",
      "cell_type": "code",
      "source": "d = { \"name\": \"Alice\", 1: \"Python\", (1, 2): [1,2,4] }\n\n# Access using key\nprint(d[\"name\"])\n\n# Access using get()\nprint(d.get(\"name\"))",
      "metadata": {
        "trusted": true
      },
      "outputs": [
        {
          "name": "stdout",
          "output_type": "stream",
          "text": "Alice\nAlice\n"
        }
      ],
      "execution_count": 14
    },
    {
      "id": "9fab13b7-0fd9-4d3a-b776-9a0cb3b2c3bb",
      "cell_type": "markdown",
      "source": "### Adding and Updating Dictionary Items",
      "metadata": {}
    },
    {
      "id": "0919076f-ad62-42ee-a0ef-7be7af81a5da",
      "cell_type": "code",
      "source": "d = {1: 'Game', 2: 'of', 3: 'Thrones'}\n\n# Adding a new key-value pair\nd[\"age\"] = 22\n\n# Updating an existing value\nd[1] = \"Python dict\"\n\nprint(d)",
      "metadata": {
        "trusted": true
      },
      "outputs": [
        {
          "name": "stdout",
          "output_type": "stream",
          "text": "{1: 'Python dict', 2: 'of', 3: 'Thrones', 'age': 22}\n"
        }
      ],
      "execution_count": 15
    },
    {
      "id": "05ad635b-84ff-4553-8fa0-2faa7433e40a",
      "cell_type": "markdown",
      "source": "### Deleting Dictionary Items",
      "metadata": {}
    },
    {
      "id": "319d1915-d5df-4996-a839-3c50e3e8337c",
      "cell_type": "code",
      "source": "# Deleting using del  \n\nd= {1: 'Game', 2: 'of', 3: 'Thrones'}\n\nprint(d)\ndel d[2]\nprint(d)\n",
      "metadata": {
        "trusted": true
      },
      "outputs": [
        {
          "name": "stdout",
          "output_type": "stream",
          "text": "{1: 'Game', 2: 'of', 3: 'Thrones'}\n{1: 'Game', 3: 'Thrones'}\n"
        }
      ],
      "execution_count": 28
    },
    {
      "id": "059223ac-7791-4134-abd4-f4aa5189f7bf",
      "cell_type": "code",
      "source": "# Deleting using pop\n\nd= {1: 'Game', 2: 'of', 3: 'Thrones'}\nprint(d)\nd.pop(1)\nprint(d)",
      "metadata": {
        "trusted": true
      },
      "outputs": [
        {
          "name": "stdout",
          "output_type": "stream",
          "text": "{1: 'Game', 2: 'of', 3: 'Thrones'}\n{2: 'of', 3: 'Thrones'}\n"
        }
      ],
      "execution_count": 22
    },
    {
      "id": "1cc9203a-14d4-466f-8a8a-c3b11a35f1d5",
      "cell_type": "code",
      "source": "# Deleting using popitem\n\nd= {1: 'Game', 2: 'of', 3: 'Thrones'}\nprint(d)\nd.popitem()\nprint(d)",
      "metadata": {
        "trusted": true
      },
      "outputs": [
        {
          "name": "stdout",
          "output_type": "stream",
          "text": "{1: 'Game', 2: 'of', 3: 'Thrones'}\n{1: 'Game', 2: 'of'}\n"
        }
      ],
      "execution_count": 23
    },
    {
      "id": "eaa6125c-c770-49b6-bf19-c9ba549487ae",
      "cell_type": "code",
      "source": "# Deleting using clear\n\nd= {1: 'Game', 2: 'of', 3: 'Thrones'}\nprint(d)\nd.clear()\nprint(d)",
      "metadata": {
        "trusted": true
      },
      "outputs": [
        {
          "name": "stdout",
          "output_type": "stream",
          "text": "{1: 'Game', 2: 'of', 3: 'Thrones'}\n{}\n"
        }
      ],
      "execution_count": 29
    }
  ]
}